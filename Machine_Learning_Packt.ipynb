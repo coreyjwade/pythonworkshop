{
 "cells": [
  {
   "cell_type": "markdown",
   "metadata": {},
   "source": [
    "## Machine Learning"
   ]
  },
  {
   "cell_type": "code",
   "execution_count": 8,
   "metadata": {},
   "outputs": [],
   "source": [
    "import pandas as pd\n",
    "import numpy as np\n",
    "\n",
    "import warnings\n",
    "warnings.filterwarnings('ignore')"
   ]
  },
  {
   "cell_type": "code",
   "execution_count": 9,
   "metadata": {},
   "outputs": [],
   "source": [
    "df = pd.read_csv('HousingData.csv')"
   ]
  },
  {
   "cell_type": "code",
   "execution_count": 10,
   "metadata": {},
   "outputs": [
    {
     "name": "stdout",
     "output_type": "stream",
     "text": [
      "<class 'pandas.core.frame.DataFrame'>\n",
      "RangeIndex: 506 entries, 0 to 505\n",
      "Data columns (total 14 columns):\n",
      "CRIM       486 non-null float64\n",
      "ZN         486 non-null float64\n",
      "INDUS      486 non-null float64\n",
      "CHAS       486 non-null float64\n",
      "NOX        506 non-null float64\n",
      "RM         506 non-null float64\n",
      "AGE        486 non-null float64\n",
      "DIS        506 non-null float64\n",
      "RAD        506 non-null int64\n",
      "TAX        506 non-null int64\n",
      "PTRATIO    506 non-null float64\n",
      "B          506 non-null float64\n",
      "LSTAT      486 non-null float64\n",
      "MEDV       506 non-null float64\n",
      "dtypes: float64(12), int64(2)\n",
      "memory usage: 55.4 KB\n"
     ]
    }
   ],
   "source": [
    "df.info()"
   ]
  },
  {
   "cell_type": "code",
   "execution_count": 11,
   "metadata": {},
   "outputs": [],
   "source": [
    "housing_df = df.dropna(how='any',axis=0) "
   ]
  },
  {
   "cell_type": "code",
   "execution_count": 12,
   "metadata": {},
   "outputs": [
    {
     "name": "stdout",
     "output_type": "stream",
     "text": [
      "<class 'pandas.core.frame.DataFrame'>\n",
      "Int64Index: 394 entries, 0 to 504\n",
      "Data columns (total 14 columns):\n",
      "CRIM       394 non-null float64\n",
      "ZN         394 non-null float64\n",
      "INDUS      394 non-null float64\n",
      "CHAS       394 non-null float64\n",
      "NOX        394 non-null float64\n",
      "RM         394 non-null float64\n",
      "AGE        394 non-null float64\n",
      "DIS        394 non-null float64\n",
      "RAD        394 non-null int64\n",
      "TAX        394 non-null int64\n",
      "PTRATIO    394 non-null float64\n",
      "B          394 non-null float64\n",
      "LSTAT      394 non-null float64\n",
      "MEDV       394 non-null float64\n",
      "dtypes: float64(12), int64(2)\n",
      "memory usage: 46.2 KB\n"
     ]
    }
   ],
   "source": [
    "housing_df.info()"
   ]
  },
  {
   "cell_type": "code",
   "execution_count": 13,
   "metadata": {},
   "outputs": [],
   "source": [
    "X = housing_df.iloc[:,:-1]\n",
    "y = housing_df.iloc[:, -1]"
   ]
  },
  {
   "cell_type": "code",
   "execution_count": 14,
   "metadata": {},
   "outputs": [
    {
     "name": "stdout",
     "output_type": "stream",
     "text": [
      "Root Mean Squared Error: 4.197638793530424\n"
     ]
    }
   ],
   "source": [
    "# Import necessary modules\n",
    "from sklearn.linear_model import LinearRegression\n",
    "from sklearn.metrics import mean_squared_error\n",
    "from sklearn.model_selection import train_test_split\n",
    "\n",
    "# Create training and test sets\n",
    "X_train, X_test, y_train, y_test = train_test_split(X, y, test_size=0.2, random_state=2)\n",
    "\n",
    "# Create the regressor: reg_all\n",
    "reg_all = LinearRegression()\n",
    "\n",
    "# Fit the regressor to the training data\n",
    "reg_all.fit(X_train, y_train)\n",
    "\n",
    "# Predict on the test data: y_pred\n",
    "y_pred = reg_all.predict(X_test)\n",
    "\n",
    "# Compute and print R^2 and RMSE\n",
    "#print(\"R^2: {}\".format(reg_all.score(X_test, y_test)))\n",
    "rmse = np.sqrt(mean_squared_error(y_test, y_pred))\n",
    "print(\"Root Mean Squared Error: {}\".format(rmse))"
   ]
  },
  {
   "cell_type": "code",
   "execution_count": 16,
   "metadata": {},
   "outputs": [],
   "source": [
    "def regression_model(model):\n",
    "\n",
    "    # Create training and test sets\n",
    "    X_train, X_test, y_train, y_test = train_test_split(X, y, test_size=0.2)\n",
    "    \n",
    "    # Create the regressor: reg_all\n",
    "    reg = model\n",
    "\n",
    "    # Fit the regressor to the training data\n",
    "    reg.fit(X_train, y_train)\n",
    "\n",
    "    # Predict on the test data: y_pred\n",
    "    y_pred = reg.predict(X_test)\n",
    "\n",
    "    # Compute and print RMSE\n",
    "    rmse = np.sqrt(mean_squared_error(y_test, y_pred))\n",
    "    print(\"Root Mean Squared Error: {}\".format(rmse))"
   ]
  },
  {
   "cell_type": "code",
   "execution_count": 17,
   "metadata": {},
   "outputs": [
    {
     "name": "stdout",
     "output_type": "stream",
     "text": [
      "Root Mean Squared Error: 5.141921641733387\n"
     ]
    }
   ],
   "source": [
    "regression_model(LinearRegression())"
   ]
  },
  {
   "cell_type": "code",
   "execution_count": 18,
   "metadata": {},
   "outputs": [
    {
     "name": "stdout",
     "output_type": "stream",
     "text": [
      "Root Mean Squared Error: 5.063405094987357\n"
     ]
    }
   ],
   "source": [
    "regression_model(LinearRegression())"
   ]
  },
  {
   "cell_type": "code",
   "execution_count": 19,
   "metadata": {},
   "outputs": [
    {
     "name": "stdout",
     "output_type": "stream",
     "text": [
      "Root Mean Squared Error: 4.782408546551577\n"
     ]
    }
   ],
   "source": [
    "regression_model(LinearRegression())"
   ]
  },
  {
   "cell_type": "code",
   "execution_count": 20,
   "metadata": {},
   "outputs": [],
   "source": [
    "from sklearn.model_selection import cross_val_score"
   ]
  },
  {
   "cell_type": "code",
   "execution_count": 21,
   "metadata": {},
   "outputs": [],
   "source": [
    "def regression_model_cv(model, k=5):\n",
    "\n",
    "    # Create the regressor: reg_all\n",
    "    reg = model\n",
    "\n",
    "    scores = cross_val_score(reg, X, y, scoring='neg_mean_squared_error', cv=k)\n",
    "\n",
    "    rmse = np.sqrt(-scores)\n",
    "    print('Reg rmse:', rmse)\n",
    "    print('Reg mean:', rmse.mean())"
   ]
  },
  {
   "cell_type": "code",
   "execution_count": 22,
   "metadata": {},
   "outputs": [
    {
     "name": "stdout",
     "output_type": "stream",
     "text": [
      "Reg rmse: [3.26123843 4.42712448 5.66151114 8.09493087 5.24453989]\n",
      "Reg mean: 5.33786896287833\n"
     ]
    }
   ],
   "source": [
    "regression_model_cv(LinearRegression())"
   ]
  },
  {
   "cell_type": "code",
   "execution_count": 23,
   "metadata": {},
   "outputs": [
    {
     "name": "stdout",
     "output_type": "stream",
     "text": [
      "Reg rmse: [ 3.72504914  6.01655701 23.20863933]\n",
      "Reg mean: 10.983415161090798\n"
     ]
    }
   ],
   "source": [
    "regression_model_cv(LinearRegression(), k=3)"
   ]
  },
  {
   "cell_type": "code",
   "execution_count": 24,
   "metadata": {},
   "outputs": [
    {
     "name": "stdout",
     "output_type": "stream",
     "text": [
      "Reg rmse: [3.23879491 3.97041949 5.58329663 3.92861033 9.88399671 3.91442679]\n",
      "Reg mean: 5.0865908108011\n"
     ]
    }
   ],
   "source": [
    "regression_model_cv(LinearRegression(), k=6)"
   ]
  },
  {
   "cell_type": "code",
   "execution_count": 25,
   "metadata": {},
   "outputs": [
    {
     "name": "stdout",
     "output_type": "stream",
     "text": [
      "Reg rmse: [3.17202127 4.54972372 5.36604368 8.03715216 5.03988501]\n",
      "Reg mean: 5.232965166251769\n"
     ]
    }
   ],
   "source": [
    "from sklearn.linear_model import Ridge\n",
    "\n",
    "regression_model_cv(Ridge())"
   ]
  },
  {
   "cell_type": "code",
   "execution_count": 26,
   "metadata": {},
   "outputs": [
    {
     "name": "stdout",
     "output_type": "stream",
     "text": [
      "Reg rmse: [3.52318747 5.70083491 7.82318757 6.9878025  3.97229348]\n",
      "Reg mean: 5.60146118538429\n"
     ]
    }
   ],
   "source": [
    "from sklearn.linear_model import Lasso\n",
    "\n",
    "regression_model_cv(Lasso())"
   ]
  },
  {
   "cell_type": "markdown",
   "metadata": {},
   "source": [
    "### Additional Models"
   ]
  },
  {
   "cell_type": "code",
   "execution_count": 27,
   "metadata": {
    "scrolled": true
   },
   "outputs": [
    {
     "name": "stdout",
     "output_type": "stream",
     "text": [
      "Reg rmse: [ 8.24568226  8.81322798 10.58043836  8.85643441  5.98100069]\n",
      "Reg mean: 8.495356738515685\n"
     ]
    }
   ],
   "source": [
    "from sklearn.neighbors import KNeighborsRegressor\n",
    "\n",
    "regression_model_cv(KNeighborsRegressor())"
   ]
  },
  {
   "cell_type": "code",
   "execution_count": 28,
   "metadata": {},
   "outputs": [
    {
     "name": "stdout",
     "output_type": "stream",
     "text": [
      "Reg rmse: [ 8.44659788  8.99814547 10.97170231  8.86647969  5.72114135]\n",
      "Reg mean: 8.600813339223432\n"
     ]
    }
   ],
   "source": [
    "regression_model_cv(KNeighborsRegressor(n_neighbors=4))"
   ]
  },
  {
   "cell_type": "code",
   "execution_count": 29,
   "metadata": {},
   "outputs": [
    {
     "name": "stdout",
     "output_type": "stream",
     "text": [
      "Reg rmse: [ 7.99710601  8.68309183 10.66332898  8.90261573  5.51032355]\n",
      "Reg mean: 8.351293217401393\n"
     ]
    }
   ],
   "source": [
    "regression_model_cv(KNeighborsRegressor(n_neighbors=7))"
   ]
  },
  {
   "cell_type": "code",
   "execution_count": 30,
   "metadata": {},
   "outputs": [
    {
     "name": "stdout",
     "output_type": "stream",
     "text": [
      "Reg rmse: [ 7.47549287  8.62914556 10.69543822  8.91330686  6.52982222]\n",
      "Reg mean: 8.448641147609868\n"
     ]
    }
   ],
   "source": [
    "regression_model_cv(KNeighborsRegressor(n_neighbors=10))"
   ]
  },
  {
   "cell_type": "code",
   "execution_count": 31,
   "metadata": {},
   "outputs": [
    {
     "name": "stdout",
     "output_type": "stream",
     "text": [
      "Best n_neighbors: {'n_neighbors': 7}\n",
      "Best score: 8.523048500643897\n"
     ]
    }
   ],
   "source": [
    "from sklearn.model_selection import GridSearchCV\n",
    "\n",
    "# Setup the hyperparameter grid of 1-20 neighbors\n",
    "neighbors = np.linspace(1, 20, 20)\n",
    "# Convert floats to int (required by knn)\n",
    "k = neighbors.astype(int)\n",
    "# Setup the hyperparameter grid\n",
    "param_grid = {'n_neighbors': k}\n",
    "\n",
    "# Instantiate the knn regressor\n",
    "knn = KNeighborsRegressor()\n",
    "# Instantiate the GridSearchCV object: knn_tuned\n",
    "knn_tuned = GridSearchCV(knn, param_grid, cv=5, scoring='neg_mean_squared_error')\n",
    "# Fit knn_tuned to the data\n",
    "knn_tuned.fit(X, y)\n",
    "    \n",
    "# Print the tuned parameters and score\n",
    "k = knn_tuned.best_params_\n",
    "print(\"Best n_neighbors: {}\".format(k))\n",
    "score = knn_tuned.best_score_\n",
    "rsm = np.sqrt(-score)\n",
    "print(\"Best score: {}\".format(rsm))"
   ]
  },
  {
   "cell_type": "code",
   "execution_count": 32,
   "metadata": {
    "scrolled": true
   },
   "outputs": [
    {
     "name": "stdout",
     "output_type": "stream",
     "text": [
      "Reg rmse: [4.52706349 5.52360871 8.61948044 6.66506099 5.48620648]\n",
      "Reg mean: 6.164284020064632\n"
     ]
    }
   ],
   "source": [
    "from sklearn import tree\n",
    "regression_model_cv(tree.DecisionTreeRegressor(random_state=2))"
   ]
  },
  {
   "cell_type": "code",
   "execution_count": 34,
   "metadata": {
    "scrolled": false
   },
   "outputs": [
    {
     "name": "stdout",
     "output_type": "stream",
     "text": [
      "Reg rmse: [3.24136848 3.82268048 4.88965687 6.83907389 4.03278456]\n",
      "Reg mean: 4.565112855453778\n"
     ]
    }
   ],
   "source": [
    "from sklearn.ensemble import RandomForestRegressor\n",
    "regression_model_cv(RandomForestRegressor(random_state=2))"
   ]
  },
  {
   "cell_type": "code",
   "execution_count": 35,
   "metadata": {},
   "outputs": [
    {
     "name": "stdout",
     "output_type": "stream",
     "text": [
      "Reg rmse: [3.15391166 3.81662184 4.83044325 6.47371928 3.68259479]\n",
      "Reg mean: 4.391458162625366\n"
     ]
    }
   ],
   "source": [
    "regression_model_cv(RandomForestRegressor(n_jobs=-1, n_estimators=100, random_state=2))"
   ]
  },
  {
   "cell_type": "code",
   "execution_count": 69,
   "metadata": {},
   "outputs": [
    {
     "name": "stdout",
     "output_type": "stream",
     "text": [
      "Best n_neighbors: {'min_samples_split': 2, 'min_samples_leaf': 1, 'max_features': 'auto', 'max_depth': 30}\n",
      "Best score: 4.547694261261262\n"
     ]
    }
   ],
   "source": [
    "from sklearn.model_selection import RandomizedSearchCV\n",
    "\n",
    "# Setup the hyperparameter grid\n",
    "param_grid = {'max_depth': [None, 10, 30, 50, 70, 100, 200, 400],\n",
    "             'min_samples_split': [2, 3, 4, 5],\n",
    "             'min_samples_leaf': [1, 2, 3],\n",
    "             'max_features': ['auto', 'sqrt']}\n",
    "\n",
    "# Instantiate the knn regressor\n",
    "reg = RandomForestRegressor(n_jobs = -1, n_estimators=100, random_state=2)\n",
    "# Instantiate the GridSearchCV object: knn_tuned\n",
    "reg_tuned = RandomizedSearchCV(reg, param_grid, cv=5, scoring='neg_mean_squared_error', random_state=2)\n",
    "# Fit knn_tuned to the data\n",
    "reg_tuned.fit(X, y)\n",
    "    \n",
    "# Print the tuned parameters and score\n",
    "k = reg_tuned.best_params_\n",
    "print(\"Best n_neighbors: {}\".format(k))\n",
    "score = reg_tuned.best_score_\n",
    "rsm = np.sqrt(-score)\n",
    "print(\"Best score: {}\".format(rsm))"
   ]
  },
  {
   "cell_type": "code",
   "execution_count": 37,
   "metadata": {},
   "outputs": [
    {
     "name": "stdout",
     "output_type": "stream",
     "text": [
      "Reg rmse: [3.19104074 3.68772428 4.82080188 6.47520583 3.84503248]\n",
      "Reg mean: 4.4039610420338935\n"
     ]
    }
   ],
   "source": [
    "regression_model_cv(RandomForestRegressor(n_jobs=-1, n_estimators=500, random_state=2))"
   ]
  },
  {
   "cell_type": "markdown",
   "metadata": {},
   "source": [
    "### Logistic Regression"
   ]
  },
  {
   "cell_type": "code",
   "execution_count": 40,
   "metadata": {},
   "outputs": [],
   "source": [
    "df = pd.read_csv('HTRU_2.csv')"
   ]
  },
  {
   "cell_type": "code",
   "execution_count": 41,
   "metadata": {},
   "outputs": [
    {
     "data": {
      "text/html": [
       "<div>\n",
       "<style scoped>\n",
       "    .dataframe tbody tr th:only-of-type {\n",
       "        vertical-align: middle;\n",
       "    }\n",
       "\n",
       "    .dataframe tbody tr th {\n",
       "        vertical-align: top;\n",
       "    }\n",
       "\n",
       "    .dataframe thead th {\n",
       "        text-align: right;\n",
       "    }\n",
       "</style>\n",
       "<table border=\"1\" class=\"dataframe\">\n",
       "  <thead>\n",
       "    <tr style=\"text-align: right;\">\n",
       "      <th></th>\n",
       "      <th>140.5625</th>\n",
       "      <th>55.68378214</th>\n",
       "      <th>-0.234571412</th>\n",
       "      <th>-0.699648398</th>\n",
       "      <th>3.199832776</th>\n",
       "      <th>19.11042633</th>\n",
       "      <th>7.975531794</th>\n",
       "      <th>74.24222492</th>\n",
       "      <th>0</th>\n",
       "    </tr>\n",
       "  </thead>\n",
       "  <tbody>\n",
       "    <tr>\n",
       "      <th>0</th>\n",
       "      <td>102.507812</td>\n",
       "      <td>58.882430</td>\n",
       "      <td>0.465318</td>\n",
       "      <td>-0.515088</td>\n",
       "      <td>1.677258</td>\n",
       "      <td>14.860146</td>\n",
       "      <td>10.576487</td>\n",
       "      <td>127.393580</td>\n",
       "      <td>0</td>\n",
       "    </tr>\n",
       "    <tr>\n",
       "      <th>1</th>\n",
       "      <td>103.015625</td>\n",
       "      <td>39.341649</td>\n",
       "      <td>0.323328</td>\n",
       "      <td>1.051164</td>\n",
       "      <td>3.121237</td>\n",
       "      <td>21.744669</td>\n",
       "      <td>7.735822</td>\n",
       "      <td>63.171909</td>\n",
       "      <td>0</td>\n",
       "    </tr>\n",
       "    <tr>\n",
       "      <th>2</th>\n",
       "      <td>136.750000</td>\n",
       "      <td>57.178449</td>\n",
       "      <td>-0.068415</td>\n",
       "      <td>-0.636238</td>\n",
       "      <td>3.642977</td>\n",
       "      <td>20.959280</td>\n",
       "      <td>6.896499</td>\n",
       "      <td>53.593661</td>\n",
       "      <td>0</td>\n",
       "    </tr>\n",
       "    <tr>\n",
       "      <th>3</th>\n",
       "      <td>88.726562</td>\n",
       "      <td>40.672225</td>\n",
       "      <td>0.600866</td>\n",
       "      <td>1.123492</td>\n",
       "      <td>1.178930</td>\n",
       "      <td>11.468720</td>\n",
       "      <td>14.269573</td>\n",
       "      <td>252.567306</td>\n",
       "      <td>0</td>\n",
       "    </tr>\n",
       "    <tr>\n",
       "      <th>4</th>\n",
       "      <td>93.570312</td>\n",
       "      <td>46.698114</td>\n",
       "      <td>0.531905</td>\n",
       "      <td>0.416721</td>\n",
       "      <td>1.636288</td>\n",
       "      <td>14.545074</td>\n",
       "      <td>10.621748</td>\n",
       "      <td>131.394004</td>\n",
       "      <td>0</td>\n",
       "    </tr>\n",
       "  </tbody>\n",
       "</table>\n",
       "</div>"
      ],
      "text/plain": [
       "     140.5625  55.68378214  -0.234571412  -0.699648398  3.199832776  \\\n",
       "0  102.507812    58.882430      0.465318     -0.515088     1.677258   \n",
       "1  103.015625    39.341649      0.323328      1.051164     3.121237   \n",
       "2  136.750000    57.178449     -0.068415     -0.636238     3.642977   \n",
       "3   88.726562    40.672225      0.600866      1.123492     1.178930   \n",
       "4   93.570312    46.698114      0.531905      0.416721     1.636288   \n",
       "\n",
       "   19.11042633  7.975531794  74.24222492  0  \n",
       "0    14.860146    10.576487   127.393580  0  \n",
       "1    21.744669     7.735822    63.171909  0  \n",
       "2    20.959280     6.896499    53.593661  0  \n",
       "3    11.468720    14.269573   252.567306  0  \n",
       "4    14.545074    10.621748   131.394004  0  "
      ]
     },
     "execution_count": 41,
     "metadata": {},
     "output_type": "execute_result"
    }
   ],
   "source": [
    "df.head()"
   ]
  },
  {
   "cell_type": "code",
   "execution_count": 42,
   "metadata": {},
   "outputs": [],
   "source": [
    "df.columns = [['Mean of integrated profile', 'Standard deviation of integrated profile', \n",
    "               'Excess kurtosis of integrated profile', 'Skewness of integrated profile',\n",
    "               'Mean of DM-SNR curve', 'Standard deviation of DM-SNR curve',\n",
    "               'Excess kurtosis of DM-SNR curve', 'Skewness of DM-SNR curve', 'Class' ]]"
   ]
  },
  {
   "cell_type": "code",
   "execution_count": 43,
   "metadata": {},
   "outputs": [
    {
     "data": {
      "text/html": [
       "<div>\n",
       "<style scoped>\n",
       "    .dataframe tbody tr th:only-of-type {\n",
       "        vertical-align: middle;\n",
       "    }\n",
       "\n",
       "    .dataframe tbody tr th {\n",
       "        vertical-align: top;\n",
       "    }\n",
       "\n",
       "    .dataframe thead tr th {\n",
       "        text-align: left;\n",
       "    }\n",
       "</style>\n",
       "<table border=\"1\" class=\"dataframe\">\n",
       "  <thead>\n",
       "    <tr>\n",
       "      <th></th>\n",
       "      <th>Mean of integrated profile</th>\n",
       "      <th>Standard deviation of integrated profile</th>\n",
       "      <th>Excess kurtosis of integrated profile</th>\n",
       "      <th>Skewness of integrated profile</th>\n",
       "      <th>Mean of DM-SNR curve</th>\n",
       "      <th>Standard deviation of DM-SNR curve</th>\n",
       "      <th>Excess kurtosis of DM-SNR curve</th>\n",
       "      <th>Skewness of DM-SNR curve</th>\n",
       "      <th>Class</th>\n",
       "    </tr>\n",
       "  </thead>\n",
       "  <tbody>\n",
       "    <tr>\n",
       "      <th>0</th>\n",
       "      <td>102.507812</td>\n",
       "      <td>58.882430</td>\n",
       "      <td>0.465318</td>\n",
       "      <td>-0.515088</td>\n",
       "      <td>1.677258</td>\n",
       "      <td>14.860146</td>\n",
       "      <td>10.576487</td>\n",
       "      <td>127.393580</td>\n",
       "      <td>0</td>\n",
       "    </tr>\n",
       "    <tr>\n",
       "      <th>1</th>\n",
       "      <td>103.015625</td>\n",
       "      <td>39.341649</td>\n",
       "      <td>0.323328</td>\n",
       "      <td>1.051164</td>\n",
       "      <td>3.121237</td>\n",
       "      <td>21.744669</td>\n",
       "      <td>7.735822</td>\n",
       "      <td>63.171909</td>\n",
       "      <td>0</td>\n",
       "    </tr>\n",
       "    <tr>\n",
       "      <th>2</th>\n",
       "      <td>136.750000</td>\n",
       "      <td>57.178449</td>\n",
       "      <td>-0.068415</td>\n",
       "      <td>-0.636238</td>\n",
       "      <td>3.642977</td>\n",
       "      <td>20.959280</td>\n",
       "      <td>6.896499</td>\n",
       "      <td>53.593661</td>\n",
       "      <td>0</td>\n",
       "    </tr>\n",
       "    <tr>\n",
       "      <th>3</th>\n",
       "      <td>88.726562</td>\n",
       "      <td>40.672225</td>\n",
       "      <td>0.600866</td>\n",
       "      <td>1.123492</td>\n",
       "      <td>1.178930</td>\n",
       "      <td>11.468720</td>\n",
       "      <td>14.269573</td>\n",
       "      <td>252.567306</td>\n",
       "      <td>0</td>\n",
       "    </tr>\n",
       "    <tr>\n",
       "      <th>4</th>\n",
       "      <td>93.570312</td>\n",
       "      <td>46.698114</td>\n",
       "      <td>0.531905</td>\n",
       "      <td>0.416721</td>\n",
       "      <td>1.636288</td>\n",
       "      <td>14.545074</td>\n",
       "      <td>10.621748</td>\n",
       "      <td>131.394004</td>\n",
       "      <td>0</td>\n",
       "    </tr>\n",
       "  </tbody>\n",
       "</table>\n",
       "</div>"
      ],
      "text/plain": [
       "  Mean of integrated profile Standard deviation of integrated profile  \\\n",
       "0                 102.507812                                58.882430   \n",
       "1                 103.015625                                39.341649   \n",
       "2                 136.750000                                57.178449   \n",
       "3                  88.726562                                40.672225   \n",
       "4                  93.570312                                46.698114   \n",
       "\n",
       "  Excess kurtosis of integrated profile Skewness of integrated profile  \\\n",
       "0                              0.465318                      -0.515088   \n",
       "1                              0.323328                       1.051164   \n",
       "2                             -0.068415                      -0.636238   \n",
       "3                              0.600866                       1.123492   \n",
       "4                              0.531905                       0.416721   \n",
       "\n",
       "  Mean of DM-SNR curve Standard deviation of DM-SNR curve  \\\n",
       "0             1.677258                          14.860146   \n",
       "1             3.121237                          21.744669   \n",
       "2             3.642977                          20.959280   \n",
       "3             1.178930                          11.468720   \n",
       "4             1.636288                          14.545074   \n",
       "\n",
       "  Excess kurtosis of DM-SNR curve Skewness of DM-SNR curve Class  \n",
       "0                       10.576487               127.393580     0  \n",
       "1                        7.735822                63.171909     0  \n",
       "2                        6.896499                53.593661     0  \n",
       "3                       14.269573               252.567306     0  \n",
       "4                       10.621748               131.394004     0  "
      ]
     },
     "execution_count": 43,
     "metadata": {},
     "output_type": "execute_result"
    }
   ],
   "source": [
    "df.head()"
   ]
  },
  {
   "cell_type": "code",
   "execution_count": 44,
   "metadata": {
    "scrolled": true
   },
   "outputs": [
    {
     "name": "stdout",
     "output_type": "stream",
     "text": [
      "<class 'pandas.core.frame.DataFrame'>\n",
      "RangeIndex: 17897 entries, 0 to 17896\n",
      "Data columns (total 9 columns):\n",
      "(Mean of integrated profile,)                  17897 non-null float64\n",
      "(Standard deviation of integrated profile,)    17897 non-null float64\n",
      "(Excess kurtosis of integrated profile,)       17897 non-null float64\n",
      "(Skewness of integrated profile,)              17897 non-null float64\n",
      "(Mean of DM-SNR curve,)                        17897 non-null float64\n",
      "(Standard deviation of DM-SNR curve,)          17897 non-null float64\n",
      "(Excess kurtosis of DM-SNR curve,)             17897 non-null float64\n",
      "(Skewness of DM-SNR curve,)                    17897 non-null float64\n",
      "(Class,)                                       17897 non-null int64\n",
      "dtypes: float64(8), int64(1)\n",
      "memory usage: 1.2 MB\n"
     ]
    }
   ],
   "source": [
    "df.info()"
   ]
  },
  {
   "cell_type": "code",
   "execution_count": 45,
   "metadata": {},
   "outputs": [
    {
     "data": {
      "text/plain": [
       "17897"
      ]
     },
     "execution_count": 45,
     "metadata": {},
     "output_type": "execute_result"
    }
   ],
   "source": [
    "len(df)"
   ]
  },
  {
   "cell_type": "code",
   "execution_count": 46,
   "metadata": {},
   "outputs": [],
   "source": [
    "y = df.iloc[:, -1]\n",
    "X = df.iloc[:,:-1]"
   ]
  },
  {
   "cell_type": "code",
   "execution_count": 47,
   "metadata": {},
   "outputs": [],
   "source": [
    "from sklearn.linear_model import LogisticRegression"
   ]
  },
  {
   "cell_type": "code",
   "execution_count": 48,
   "metadata": {},
   "outputs": [],
   "source": [
    "def clf_model(model, cv=3):\n",
    "\n",
    "    # Create the classifier clf\n",
    "    clf = model\n",
    "\n",
    "    scores = cross_val_score(clf, X, y, cv=cv)\n",
    "\n",
    "    print('Scores:', scores)\n",
    "    print('Mean score:', scores.mean())"
   ]
  },
  {
   "cell_type": "code",
   "execution_count": 49,
   "metadata": {},
   "outputs": [
    {
     "name": "stdout",
     "output_type": "stream",
     "text": [
      "Scores: [0.9740238  0.98222967 0.9766974 ]\n",
      "Mean score: 0.9776502907183512\n"
     ]
    }
   ],
   "source": [
    "clf_model(LogisticRegression())"
   ]
  },
  {
   "cell_type": "code",
   "execution_count": 50,
   "metadata": {},
   "outputs": [
    {
     "name": "stdout",
     "output_type": "stream",
     "text": [
      "Scores: [0.96899615 0.97200335 0.97082984]\n",
      "Mean score: 0.9706097796987464\n"
     ]
    }
   ],
   "source": [
    "from sklearn.neighbors import KNeighborsClassifier\n",
    "clf_model(KNeighborsClassifier())"
   ]
  },
  {
   "cell_type": "code",
   "execution_count": 51,
   "metadata": {},
   "outputs": [
    {
     "name": "stdout",
     "output_type": "stream",
     "text": [
      "Scores: [0.95692978 0.92472758 0.94836547]\n",
      "Mean score: 0.9433409410695212\n"
     ]
    }
   ],
   "source": [
    "from sklearn.naive_bayes import GaussianNB\n",
    "clf_model(GaussianNB())"
   ]
  },
  {
   "cell_type": "code",
   "execution_count": 52,
   "metadata": {},
   "outputs": [
    {
     "name": "stdout",
     "output_type": "stream",
     "text": [
      "Scores: [0.96748785 0.96211232 0.96596815]\n",
      "Mean score: 0.9651894397485509\n"
     ]
    }
   ],
   "source": [
    "from sklearn.tree import DecisionTreeClassifier\n",
    "clf_model(DecisionTreeClassifier(random_state=2))"
   ]
  },
  {
   "cell_type": "code",
   "execution_count": 53,
   "metadata": {},
   "outputs": [
    {
     "name": "stdout",
     "output_type": "stream",
     "text": [
      "Scores: [0.97569968 0.98005029 0.9766974 ]\n",
      "Mean score: 0.9774824588229581\n"
     ]
    }
   ],
   "source": [
    "from sklearn.ensemble import RandomForestClassifier\n",
    "clf_model(RandomForestClassifier(random_state=2))"
   ]
  },
  {
   "cell_type": "code",
   "execution_count": 54,
   "metadata": {},
   "outputs": [
    {
     "data": {
      "text/plain": [
       "Class    17897\n",
       "dtype: int64"
      ]
     },
     "execution_count": 54,
     "metadata": {},
     "output_type": "execute_result"
    }
   ],
   "source": [
    "df.Class.count()"
   ]
  },
  {
   "cell_type": "code",
   "execution_count": 55,
   "metadata": {},
   "outputs": [
    {
     "data": {
      "text/plain": [
       "Class    1639\n",
       "dtype: int64"
      ]
     },
     "execution_count": 55,
     "metadata": {},
     "output_type": "execute_result"
    }
   ],
   "source": [
    "df[df.Class == 1].Class.count()"
   ]
  },
  {
   "cell_type": "code",
   "execution_count": 56,
   "metadata": {},
   "outputs": [
    {
     "data": {
      "text/plain": [
       "Class    0.09158\n",
       "dtype: float64"
      ]
     },
     "execution_count": 56,
     "metadata": {},
     "output_type": "execute_result"
    }
   ],
   "source": [
    "df[df.Class == 1].Class.count()/df.Class.count()"
   ]
  },
  {
   "cell_type": "code",
   "execution_count": 57,
   "metadata": {},
   "outputs": [],
   "source": [
    "from sklearn.metrics import classification_report\n",
    "from sklearn.metrics import confusion_matrix\n",
    "\n",
    "# Create training and test sets\n",
    "X_train, X_test, y_train, y_test = train_test_split(X, y, test_size = 0.25, random_state=2)\n",
    "\n",
    "def confusion(model):\n",
    "\n",
    "    # Create a multinomial classifier\n",
    "    clf = model\n",
    "\n",
    "    # Fit the classifier to the data\n",
    "    clf.fit(X_train, y_train)\n",
    "\n",
    "    # Predict the labels of the test set: y_pred\n",
    "    y_pred = clf.predict(X_test)\n",
    "\n",
    "    # Compute and print the confusion matrix and classification report\n",
    "    print('Confusion Matrix:', confusion_matrix(y_test, y_pred))\n",
    "    print('Classification Report:', classification_report(y_test, y_pred))\n",
    "    \n",
    "    return clf"
   ]
  },
  {
   "cell_type": "code",
   "execution_count": 58,
   "metadata": {},
   "outputs": [
    {
     "name": "stdout",
     "output_type": "stream",
     "text": [
      "Confusion Matrix: [[4014   20]\n",
      " [  84  357]]\n",
      "Classification Report:               precision    recall  f1-score   support\n",
      "\n",
      "           0       0.98      1.00      0.99      4034\n",
      "           1       0.95      0.81      0.87       441\n",
      "\n",
      "    accuracy                           0.98      4475\n",
      "   macro avg       0.96      0.90      0.93      4475\n",
      "weighted avg       0.98      0.98      0.98      4475\n",
      "\n"
     ]
    },
    {
     "data": {
      "text/plain": [
       "LogisticRegression(C=1.0, class_weight=None, dual=False, fit_intercept=True,\n",
       "                   intercept_scaling=1, l1_ratio=None, max_iter=100,\n",
       "                   multi_class='warn', n_jobs=None, penalty='l2',\n",
       "                   random_state=None, solver='warn', tol=0.0001, verbose=0,\n",
       "                   warm_start=False)"
      ]
     },
     "execution_count": 58,
     "metadata": {},
     "output_type": "execute_result"
    }
   ],
   "source": [
    "confusion(LogisticRegression())"
   ]
  },
  {
   "cell_type": "code",
   "execution_count": 59,
   "metadata": {},
   "outputs": [
    {
     "name": "stdout",
     "output_type": "stream",
     "text": [
      "Confusion Matrix: [[4004   30]\n",
      " [  96  345]]\n",
      "Classification Report:               precision    recall  f1-score   support\n",
      "\n",
      "           0       0.98      0.99      0.98      4034\n",
      "           1       0.92      0.78      0.85       441\n",
      "\n",
      "    accuracy                           0.97      4475\n",
      "   macro avg       0.95      0.89      0.92      4475\n",
      "weighted avg       0.97      0.97      0.97      4475\n",
      "\n"
     ]
    },
    {
     "data": {
      "text/plain": [
       "KNeighborsClassifier(algorithm='auto', leaf_size=30, metric='minkowski',\n",
       "                     metric_params=None, n_jobs=None, n_neighbors=5, p=2,\n",
       "                     weights='uniform')"
      ]
     },
     "execution_count": 59,
     "metadata": {},
     "output_type": "execute_result"
    }
   ],
   "source": [
    "confusion(KNeighborsClassifier())"
   ]
  },
  {
   "cell_type": "code",
   "execution_count": 60,
   "metadata": {},
   "outputs": [
    {
     "name": "stdout",
     "output_type": "stream",
     "text": [
      "Confusion Matrix: [[3852  182]\n",
      " [  67  374]]\n",
      "Classification Report:               precision    recall  f1-score   support\n",
      "\n",
      "           0       0.98      0.95      0.97      4034\n",
      "           1       0.67      0.85      0.75       441\n",
      "\n",
      "    accuracy                           0.94      4475\n",
      "   macro avg       0.83      0.90      0.86      4475\n",
      "weighted avg       0.95      0.94      0.95      4475\n",
      "\n"
     ]
    },
    {
     "data": {
      "text/plain": [
       "GaussianNB(priors=None, var_smoothing=1e-09)"
      ]
     },
     "execution_count": 60,
     "metadata": {},
     "output_type": "execute_result"
    }
   ],
   "source": [
    "confusion(GaussianNB())"
   ]
  },
  {
   "cell_type": "code",
   "execution_count": 62,
   "metadata": {},
   "outputs": [
    {
     "name": "stdout",
     "output_type": "stream",
     "text": [
      "Confusion Matrix: [[4011   23]\n",
      " [  75  366]]\n",
      "Classification Report:               precision    recall  f1-score   support\n",
      "\n",
      "           0       0.98      0.99      0.99      4034\n",
      "           1       0.94      0.83      0.88       441\n",
      "\n",
      "    accuracy                           0.98      4475\n",
      "   macro avg       0.96      0.91      0.93      4475\n",
      "weighted avg       0.98      0.98      0.98      4475\n",
      "\n"
     ]
    },
    {
     "data": {
      "text/plain": [
       "RandomForestClassifier(bootstrap=True, class_weight=None, criterion='gini',\n",
       "                       max_depth=None, max_features='auto', max_leaf_nodes=None,\n",
       "                       min_impurity_decrease=0.0, min_impurity_split=None,\n",
       "                       min_samples_leaf=1, min_samples_split=2,\n",
       "                       min_weight_fraction_leaf=0.0, n_estimators=10,\n",
       "                       n_jobs=None, oob_score=False, random_state=2, verbose=0,\n",
       "                       warm_start=False)"
      ]
     },
     "execution_count": 62,
     "metadata": {},
     "output_type": "execute_result"
    }
   ],
   "source": [
    "confusion(RandomForestClassifier(random_state=2))"
   ]
  },
  {
   "cell_type": "code",
   "execution_count": 65,
   "metadata": {},
   "outputs": [
    {
     "name": "stdout",
     "output_type": "stream",
     "text": [
      "Scores: [0.97519692 0.98122381 0.97652976]\n",
      "Mean score: 0.9776501596069993\n"
     ]
    }
   ],
   "source": [
    "from sklearn.ensemble import AdaBoostClassifier\n",
    "clf_model(AdaBoostClassifier())"
   ]
  },
  {
   "cell_type": "code",
   "execution_count": 64,
   "metadata": {},
   "outputs": [
    {
     "name": "stdout",
     "output_type": "stream",
     "text": [
      "Confusion Matrix: [[4009   25]\n",
      " [  81  360]]\n",
      "Classification Report:               precision    recall  f1-score   support\n",
      "\n",
      "           0       0.98      0.99      0.99      4034\n",
      "           1       0.94      0.82      0.87       441\n",
      "\n",
      "    accuracy                           0.98      4475\n",
      "   macro avg       0.96      0.91      0.93      4475\n",
      "weighted avg       0.98      0.98      0.98      4475\n",
      "\n"
     ]
    },
    {
     "data": {
      "text/plain": [
       "AdaBoostClassifier(algorithm='SAMME.R', base_estimator=None, learning_rate=1.0,\n",
       "                   n_estimators=50, random_state=None)"
      ]
     },
     "execution_count": 64,
     "metadata": {},
     "output_type": "execute_result"
    }
   ],
   "source": [
    "confusion(AdaBoostClassifier())"
   ]
  },
  {
   "cell_type": "code",
   "execution_count": 66,
   "metadata": {},
   "outputs": [],
   "source": [
    "X = housing_df.iloc[:,:-1]\n",
    "y = housing_df.iloc[:, -1]"
   ]
  },
  {
   "cell_type": "code",
   "execution_count": 67,
   "metadata": {},
   "outputs": [
    {
     "name": "stdout",
     "output_type": "stream",
     "text": [
      "Reg rmse: [3.70410315 3.27533742 6.38531417 6.13613939 4.35421939]\n",
      "Reg mean: 4.771022702470671\n"
     ]
    }
   ],
   "source": [
    "from sklearn.ensemble import AdaBoostRegressor\n",
    "regression_model_cv(AdaBoostRegressor(random_state=2))"
   ]
  },
  {
   "cell_type": "code",
   "execution_count": null,
   "metadata": {},
   "outputs": [],
   "source": []
  }
 ],
 "metadata": {
  "kernelspec": {
   "display_name": "Python 3",
   "language": "python",
   "name": "python3"
  },
  "language_info": {
   "codemirror_mode": {
    "name": "ipython",
    "version": 3
   },
   "file_extension": ".py",
   "mimetype": "text/x-python",
   "name": "python",
   "nbconvert_exporter": "python",
   "pygments_lexer": "ipython3",
   "version": "3.7.3"
  }
 },
 "nbformat": 4,
 "nbformat_minor": 2
}
